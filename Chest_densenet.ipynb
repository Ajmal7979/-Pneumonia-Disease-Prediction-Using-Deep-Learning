{
 "cells": [
  {
   "cell_type": "code",
   "execution_count": 1,
   "id": "a1ad8955-24e7-4022-916b-0fb7319cdaa1",
   "metadata": {},
   "outputs": [],
   "source": [
    "import os\n",
    "import matplotlib.pyplot as plt\n",
    "from PIL import Image"
   ]
  },
  {
   "cell_type": "code",
   "execution_count": 2,
   "id": "ce5aa852-f37d-43fb-88b6-58793d786e5c",
   "metadata": {},
   "outputs": [
    {
     "name": "stdout",
     "output_type": "stream",
     "text": [
      "Requirement already satisfied: scikit-learn in d:\\anaconda\\lib\\site-packages (1.2.2)\n",
      "Requirement already satisfied: numpy>=1.17.3 in d:\\anaconda\\lib\\site-packages (from scikit-learn) (1.26.4)\n",
      "Requirement already satisfied: scipy>=1.3.2 in d:\\anaconda\\lib\\site-packages (from scikit-learn) (1.11.4)\n",
      "Requirement already satisfied: joblib>=1.1.1 in d:\\anaconda\\lib\\site-packages (from scikit-learn) (1.2.0)\n",
      "Requirement already satisfied: threadpoolctl>=2.0.0 in d:\\anaconda\\lib\\site-packages (from scikit-learn) (2.2.0)\n"
     ]
    }
   ],
   "source": [
    "!pip install scikit-learn"
   ]
  },
  {
   "cell_type": "code",
   "execution_count": 3,
   "id": "6e7648d9-ee4c-40b0-ab6b-7d217eb27fb3",
   "metadata": {},
   "outputs": [],
   "source": [
    "import shutil\n",
    "import random"
   ]
  },
  {
   "cell_type": "code",
   "execution_count": 4,
   "id": "cbc271e5-1b14-4285-8e42-aedff51cf6d7",
   "metadata": {},
   "outputs": [],
   "source": [
    "import shutil\n",
    "import random"
   ]
  },
  {
   "cell_type": "code",
   "execution_count": 5,
   "id": "1a24adb0-4256-485e-b1cc-31aeafb36afc",
   "metadata": {},
   "outputs": [],
   "source": [
    "import torch\n",
    "from torchvision import datasets, transforms\n",
    "from torch.utils.data import random_split, DataLoader"
   ]
  },
  {
   "cell_type": "code",
   "execution_count": 6,
   "id": "d83a1374-a61c-4d0b-aa70-f911e9edd030",
   "metadata": {},
   "outputs": [],
   "source": [
    "import torch\n",
    "import torch.nn as nn\n",
    "from torchvision import models"
   ]
  },
  {
   "cell_type": "code",
   "execution_count": 7,
   "id": "52c6a90c-709a-42db-8dd7-7a292ee4993a",
   "metadata": {},
   "outputs": [],
   "source": [
    "import torch\n",
    "from sklearn.metrics import f1_score, precision_score, recall_score\n",
    "import torch.nn.functional as F"
   ]
  },
  {
   "cell_type": "code",
   "execution_count": 8,
   "id": "0fd706b7-198b-4793-840f-7bfedfd8adbf",
   "metadata": {},
   "outputs": [],
   "source": [
    "from sklearn.metrics import confusion_matrix\n",
    "import seaborn as sns\n",
    "import matplotlib.pyplot as plt"
   ]
  },
  {
   "cell_type": "code",
   "execution_count": 9,
   "id": "82c3a6f6-44d8-450b-afa0-f66af09d5d07",
   "metadata": {},
   "outputs": [],
   "source": [
    "import numpy as np"
   ]
  },
  {
   "cell_type": "code",
   "execution_count": 52,
   "id": "47dcfb95-75cf-458d-94a2-113c3e00704d",
   "metadata": {},
   "outputs": [],
   "source": [
    "train_dir = \"D:/Downloads/archive/chest_xray/train\"\n",
    "val_dir = \"D:/Downloads/archive/chest_xray/val\"\n",
    "test_dir = \"D:/Downloads/archive/chest_xray/test\""
   ]
  },
  {
   "cell_type": "code",
   "execution_count": 53,
   "id": "b37b57ae-e859-45ca-a2aa-381010b9aef5",
   "metadata": {},
   "outputs": [],
   "source": [
    "chest_xray_dir = os.path.join(train_dir, 'chest_xray')"
   ]
  },
  {
   "cell_type": "code",
   "execution_count": 54,
   "id": "78a2c99f-a264-4056-95d4-945a868a2f57",
   "metadata": {},
   "outputs": [],
   "source": [
    "train_dir = os.path.join(chest_xray_dir, 'train')\n",
    "val_dir = os.path.join(chest_xray_dir, 'val')\n",
    "test_dir = os.path.join(chest_xray_dir, 'test')"
   ]
  },
  {
   "cell_type": "code",
   "execution_count": 55,
   "id": "9c013d32-abd5-4c67-95e8-bddd29c8c9f6",
   "metadata": {},
   "outputs": [],
   "source": [
    "def plot_class_distribution(data, title):\n",
    "    classes = list(data.keys())\n",
    "    counts = list(data.values())\n",
    "    \n",
    "    plt.figure(figsize=(6, 4))\n",
    "    plt.bar(classes, counts, color=['blue', 'orange'])\n",
    "    plt.title(title)\n",
    "    plt.xlabel('Classes')\n",
    "    plt.ylabel('Número de Imagens')\n",
    "    plt.show()"
   ]
  },
  {
   "cell_type": "code",
   "execution_count": 56,
   "id": "14176b60-858e-471d-9248-a3bb57b6e452",
   "metadata": {},
   "outputs": [],
   "source": [
    "def train_model(model, train_loader, val_loader, criterion, optimizer, num_epochs=10, device='cpu'):\n",
    "    history = {'train_loss': [], 'val_loss': [],\n",
    "               'train_accuracy': [], 'val_accuracy': [],\n",
    "               'train_f1': [], 'val_f1': [],\n",
    "               'train_precision': [], 'val_precision': [],\n",
    "               'train_recall': [], 'val_recall': []}\n",
    "    \n",
    "    for epoch in range(num_epochs):\n",
    "        print(f'Epoch {epoch+1}/{num_epochs}')\n",
    "        print('-' * 20)\n",
    "        \n",
    "        model.train()\n",
    "        running_loss = 0.0\n",
    "        all_preds = []\n",
    "        all_labels = []\n",
    "        \n",
    "        for inputs, labels in train_loader:\n",
    "            inputs, labels = inputs.to(device), labels.to(device)\n",
    "            \n",
    "            optimizer.zero_grad()\n",
    "            \n",
    "            outputs = model(inputs)\n",
    "            loss = criterion(outputs, labels)\n",
    "            \n",
    "            loss.backward()\n",
    "            optimizer.step()\n",
    "            \n",
    "            running_loss += loss.item()\n",
    "            \n",
    "            _, preds = torch.max(outputs, 1)\n",
    "            all_preds.extend(preds.cpu().numpy())\n",
    "            all_labels.extend(labels.cpu().numpy())\n",
    "        \n",
    "        train_loss = running_loss / len(train_loader)\n",
    "        train_f1 = f1_score(all_labels, all_preds, average='weighted')\n",
    "        train_precision = precision_score(all_labels, all_preds, average='weighted')\n",
    "        train_recall = recall_score(all_labels, all_preds, average='weighted')\n",
    "        train_accuracy = (torch.tensor(all_preds) == torch.tensor(all_labels)).sum().item() / len(all_labels)\n",
    "        \n",
    "        history['train_loss'].append(train_loss)\n",
    "        history['train_accuracy'].append(train_accuracy)\n",
    "        history['train_f1'].append(train_f1)\n",
    "        history['train_precision'].append(train_precision)\n",
    "        history['train_recall'].append(train_recall)\n",
    "\n",
    "        model.eval()\n",
    "        val_loss = 0.0\n",
    "        all_val_preds = []\n",
    "        all_val_labels = []\n",
    "        \n",
    "        with torch.no_grad():\n",
    "            for inputs, labels in val_loader:\n",
    "                inputs, labels = inputs.to(device), labels.to(device)\n",
    "                outputs = model(inputs)\n",
    "                loss = criterion(outputs, labels)\n",
    "                val_loss += loss.item()\n",
    "                \n",
    "                _, preds = torch.max(outputs, 1)\n",
    "                all_val_preds.extend(preds.cpu().numpy())\n",
    "                all_val_labels.extend(labels.cpu().numpy())\n",
    "        \n",
    "        val_loss = val_loss / len(val_loader)\n",
    "        val_f1 = f1_score(all_val_labels, all_val_preds, average='weighted')\n",
    "        val_precision = precision_score(all_val_labels, all_val_preds, average='weighted')\n",
    "        val_recall = recall_score(all_val_labels, all_val_preds, average='weighted')\n",
    "        val_accuracy = (torch.tensor(all_val_preds) == torch.tensor(all_val_labels)).sum().item() / len(all_val_labels)\n",
    "        \n",
    "        history['val_loss'].append(val_loss)\n",
    "        history['val_accuracy'].append(val_accuracy)\n",
    "        history['val_f1'].append(val_f1)\n",
    "        history['val_precision'].append(val_precision)\n",
    "        history['val_recall'].append(val_recall)\n",
    "\n",
    "        print(f'Treino: Loss: {train_loss:.4f}, Accuracy: {train_accuracy:.4f}, F1-score: {train_f1:.4f}, Precision: {train_precision:.4f}, Recall: {train_recall:.4f}')\n",
    "        print(f'Validação: Loss: {val_loss:.4f}, Accuracy: {val_accuracy:.4f}, F1-score: {val_f1:.4f}, Precision: {val_precision:.4f}, Recall: {val_recall:.4f}')\n",
    "        print()\n",
    "    \n",
    "    return history"
   ]
  },
  {
   "cell_type": "code",
   "execution_count": 57,
   "id": "0b0a5219-41b5-4082-beba-27eeea30fcf0",
   "metadata": {},
   "outputs": [],
   "source": [
    "def evaluate_model_on_test(model, test_loader, criterion, device='cpu'):\n",
    "    model.eval()  \n",
    "    \n",
    "    test_loss = 0.0\n",
    "    all_test_preds = []\n",
    "    all_test_labels = []\n",
    "    \n",
    "    with torch.no_grad():\n",
    "        for inputs, labels in test_loader:\n",
    "            inputs, labels = inputs.to(device), labels.to(device)\n",
    "            \n",
    "            outputs = model(inputs)\n",
    "            loss = criterion(outputs, labels)\n",
    "            test_loss += loss.item()\n",
    "            \n",
    "            _, preds = torch.max(outputs, 1)\n",
    "            all_test_preds.extend(preds.cpu().numpy())\n",
    "            all_test_labels.extend(labels.cpu().numpy())\n",
    "\n",
    "    test_loss = test_loss / len(test_loader)\n",
    "    test_f1 = f1_score(all_test_labels, all_test_preds, average='weighted')\n",
    "    test_precision = precision_score(all_test_labels, all_test_preds, average='weighted')\n",
    "    test_recall = recall_score(all_test_labels, all_test_preds, average='weighted')\n",
    "    test_accuracy = (torch.tensor(all_test_preds) == torch.tensor(all_test_labels)).sum().item() / len(all_test_labels)\n",
    "\n",
    "    print(f'Teste: Loss: {test_loss:.4f}, Accuracy: {test_accuracy:.4f}, F1-score: {test_f1:.4f}, Precision: {test_precision:.4f}, Recall: {test_recall:.4f}')\n",
    "    \n",
    "    return test_loss, test_accuracy, test_f1, test_precision, test_recall"
   ]
  },
  {
   "cell_type": "code",
   "execution_count": 58,
   "id": "b1c79f95-0c0f-4799-89b4-464bc6a4f018",
   "metadata": {},
   "outputs": [],
   "source": [
    "def plot_metrics(history):\n",
    "    epochs = range(1, len(history['train_loss']) + 1)\n",
    "    \n",
    "    # Loss\n",
    "    plt.figure(figsize=(12, 6))\n",
    "    plt.subplot(2, 3, 1)\n",
    "    plt.plot(epochs, history['train_loss'], label='Treino Loss')\n",
    "    plt.plot(epochs, history['val_loss'], label='Validação Loss')\n",
    "    plt.title('Loss')\n",
    "    plt.legend()\n",
    "\n",
    "    # Accuracy\n",
    "    plt.subplot(2, 3, 2)\n",
    "    plt.plot(epochs, history['train_accuracy'], label='Treino Accuracy')\n",
    "    plt.plot(epochs, history['val_accuracy'], label='Validação Accuracy')\n",
    "    plt.title('Acurácia')\n",
    "    plt.legend()\n",
    "\n",
    "    # F1-Score\n",
    "    plt.subplot(2, 3, 3)\n",
    "    plt.plot(epochs, history['train_f1'], label='Treino F1-Score')\n",
    "    plt.plot(epochs, history['val_f1'], label='Validação F1-Score')\n",
    "    plt.title('F1-Score')\n",
    "    plt.legend()\n",
    "\n",
    "    # Precision\n",
    "    plt.subplot(2, 3, 4)\n",
    "    plt.plot(epochs, history['train_precision'], label='Treino Precision')\n",
    "    plt.plot(epochs, history['val_precision'], label='Validação Precision')\n",
    "    plt.title('Precision')\n",
    "    plt.legend()\n",
    "\n",
    "    # Recall\n",
    "    plt.subplot(2, 3, 5)\n",
    "    plt.plot(epochs, history['train_recall'], label='Treino Recall')\n",
    "    plt.plot(epochs, history['val_recall'], label='Validação Recall')\n",
    "    plt.title('Recall')\n",
    "    plt.legend()\n",
    "\n",
    "    plt.tight_layout()\n",
    "    plt.show()"
   ]
  },
  {
   "cell_type": "code",
   "execution_count": 59,
   "id": "8b07fb5e-242f-40bb-9259-2bd02695b9d1",
   "metadata": {},
   "outputs": [],
   "source": [
    "def evaluate_and_plot_confusion_matrix(model, test_loader, device='cpu'):\n",
    "    model.eval()  \n",
    "    all_test_preds = []\n",
    "    all_test_labels = []\n",
    "    \n",
    "    with torch.no_grad():\n",
    "        for inputs, labels in test_loader:\n",
    "            inputs, labels = inputs.to(device), labels.to(device)\n",
    "            \n",
    "            outputs = model(inputs)\n",
    "            \n",
    "            _, preds = torch.max(outputs, 1)\n",
    "            all_test_preds.extend(preds.cpu().numpy())\n",
    "            all_test_labels.extend(labels.cpu().numpy())\n",
    "\n",
    "    cm = confusion_matrix(all_test_labels, all_test_preds)\n",
    "    \n",
    "    plt.figure(figsize=(6, 4))\n",
    "    sns.heatmap(cm, annot=True, fmt=\"d\", cmap=\"Blues\", xticklabels=['Normal', 'Pneumonia'], yticklabels=['Normal', 'Pneumonia'])\n",
    "    plt.title('Confusion Matrix - Test Set')\n",
    "    plt.ylabel('True Label')\n",
    "    plt.xlabel('Predicted Label')\n",
    "    plt.show()"
   ]
  },
  {
   "cell_type": "code",
   "execution_count": 60,
   "id": "ef2a4754-ffca-4d03-827c-80c2fe6c9890",
   "metadata": {},
   "outputs": [],
   "source": [
    "def plot_confusion_matrix_validation(model, val_loader, device='cpu'):\n",
    "    model.eval()  \n",
    "    all_val_preds = []\n",
    "    all_val_labels = []\n",
    "    \n",
    "    with torch.no_grad():\n",
    "        for inputs, labels in val_loader:\n",
    "            inputs, labels = inputs.to(device), labels.to(device)\n",
    "            \n",
    "            outputs = model(inputs)\n",
    "            \n",
    "            _, preds = torch.max(outputs, 1)\n",
    "            all_val_preds.extend(preds.cpu().numpy())\n",
    "            all_val_labels.extend(labels.cpu().numpy())\n",
    "\n",
    "    cm = confusion_matrix(all_val_labels, all_val_preds)\n",
    "    \n",
    "    plt.figure(figsize=(6, 4))\n",
    "    sns.heatmap(cm, annot=True, fmt=\"d\", cmap=\"Blues\", xticklabels=['Normal', 'Pneumonia'], yticklabels=['Normal', 'Pneumonia'])\n",
    "    plt.title('Confusion Matrix - Validation Set')\n",
    "    plt.ylabel('True Label')\n",
    "    plt.xlabel('Predicted Label')\n",
    "    plt.show()"
   ]
  },
  {
   "cell_type": "code",
   "execution_count": 61,
   "id": "33597f3d-993d-476e-95e5-8e9de237410b",
   "metadata": {},
   "outputs": [],
   "source": [
    "def show_images(dataset_dir, class_name, num_images=5):\n",
    "    class_path = os.path.join(dataset_dir, class_name)\n",
    "    images = os.listdir(class_path)[:num_images]\n",
    "    \n",
    "    plt.figure(figsize=(12, 6))\n",
    "    for i, img_name in enumerate(images):\n",
    "        img_path = os.path.join(class_path, img_name)\n",
    "        img = Image.open(img_path)\n",
    "        plt.subplot(1, num_images, i + 1)\n",
    "        plt.imshow(img, cmap='gray')\n",
    "        plt.title(class_name)\n",
    "        plt.axis('off')\n",
    "    plt.show()"
   ]
  },
  {
   "cell_type": "code",
   "execution_count": 62,
   "id": "235e596f-eb07-4d9f-adec-bb9454225447",
   "metadata": {},
   "outputs": [],
   "source": [
    "def plot_histogram_of_intensities(dataset_dir, class_name, num_images=5):\n",
    "    class_path = os.path.join(dataset_dir, class_name)\n",
    "    images = os.listdir(class_path)[:num_images]\n",
    "    \n",
    "    plt.figure(figsize=(10, 5))\n",
    "    for i, img_name in enumerate(images):\n",
    "        img_path = os.path.join(class_path, img_name)\n",
    "        img = Image.open(img_path).convert('L')  \n",
    "        img_np = np.array(img).flatten()  \n",
    "        \n",
    "        plt.subplot(1, num_images, i + 1)\n",
    "        plt.hist(img_np, bins=50, color='blue', alpha=0.7)\n",
    "        plt.title(f'Histograma - {class_name} {i+1}')\n",
    "        plt.xlabel('Valor de Pixel')\n",
    "        plt.ylabel('Frequência')\n",
    "    plt.tight_layout()\n",
    "    plt.show()"
   ]
  },
  {
   "cell_type": "code",
   "execution_count": 63,
   "id": "78a219a3-e80e-4d7f-93b0-32d823ee26c3",
   "metadata": {},
   "outputs": [
    {
     "ename": "FileNotFoundError",
     "evalue": "[WinError 3] The system cannot find the path specified: 'D:/Downloads/archive/chest_xray/train\\\\chest_xray\\\\train'",
     "output_type": "error",
     "traceback": [
      "\u001b[1;31m---------------------------------------------------------------------------\u001b[0m",
      "\u001b[1;31mFileNotFoundError\u001b[0m                         Traceback (most recent call last)",
      "Cell \u001b[1;32mIn[63], line 1\u001b[0m\n\u001b[1;32m----> 1\u001b[0m train_classes \u001b[38;5;241m=\u001b[39m os\u001b[38;5;241m.\u001b[39mlistdir(train_dir)\n\u001b[0;32m      2\u001b[0m val_classes \u001b[38;5;241m=\u001b[39m os\u001b[38;5;241m.\u001b[39mlistdir(val_dir)\n\u001b[0;32m      3\u001b[0m test_classes \u001b[38;5;241m=\u001b[39m os\u001b[38;5;241m.\u001b[39mlistdir(test_dir)\n",
      "\u001b[1;31mFileNotFoundError\u001b[0m: [WinError 3] The system cannot find the path specified: 'D:/Downloads/archive/chest_xray/train\\\\chest_xray\\\\train'"
     ]
    }
   ],
   "source": [
    "train_classes = os.listdir(train_dir)\n",
    "val_classes = os.listdir(val_dir)\n",
    "test_classes = os.listdir(test_dir)"
   ]
  },
  {
   "cell_type": "code",
   "execution_count": 64,
   "id": "6ca9e5d0-1211-4dbd-80d5-96e54670f4b6",
   "metadata": {},
   "outputs": [
    {
     "ename": "NameError",
     "evalue": "name 'train_classes' is not defined",
     "output_type": "error",
     "traceback": [
      "\u001b[1;31m---------------------------------------------------------------------------\u001b[0m",
      "\u001b[1;31mNameError\u001b[0m                                 Traceback (most recent call last)",
      "Cell \u001b[1;32mIn[64], line 1\u001b[0m\n\u001b[1;32m----> 1\u001b[0m \u001b[38;5;28mprint\u001b[39m(\u001b[38;5;124mf\u001b[39m\u001b[38;5;124m'\u001b[39m\u001b[38;5;124mClasses in training: \u001b[39m\u001b[38;5;132;01m{\u001b[39;00mtrain_classes\u001b[38;5;132;01m}\u001b[39;00m\u001b[38;5;124m'\u001b[39m)\n\u001b[0;32m      2\u001b[0m \u001b[38;5;28mprint\u001b[39m(\u001b[38;5;124mf\u001b[39m\u001b[38;5;124m'\u001b[39m\u001b[38;5;124mClasses em validation: \u001b[39m\u001b[38;5;132;01m{\u001b[39;00mval_classes\u001b[38;5;132;01m}\u001b[39;00m\u001b[38;5;124m'\u001b[39m)\n\u001b[0;32m      3\u001b[0m \u001b[38;5;28mprint\u001b[39m(\u001b[38;5;124mf\u001b[39m\u001b[38;5;124m'\u001b[39m\u001b[38;5;124mClasses em test: \u001b[39m\u001b[38;5;132;01m{\u001b[39;00mtest_classes\u001b[38;5;132;01m}\u001b[39;00m\u001b[38;5;124m'\u001b[39m)\n",
      "\u001b[1;31mNameError\u001b[0m: name 'train_classes' is not defined"
     ]
    }
   ],
   "source": [
    "print(f'Classes in training: {train_classes}')\n",
    "print(f'Classes em validation: {val_classes}')\n",
    "print(f'Classes em test: {test_classes}')"
   ]
  },
  {
   "cell_type": "code",
   "execution_count": null,
   "id": "ad0beeda-cfe5-4b1a-ac98-451be80a95ef",
   "metadata": {},
   "outputs": [],
   "source": []
  },
  {
   "cell_type": "code",
   "execution_count": null,
   "id": "f1b35604-9974-4846-8d41-bac8b78d6b76",
   "metadata": {},
   "outputs": [],
   "source": []
  },
  {
   "cell_type": "code",
   "execution_count": null,
   "id": "5b1b78e5-c962-42cd-8b10-2279a6f40b5b",
   "metadata": {},
   "outputs": [],
   "source": []
  },
  {
   "cell_type": "code",
   "execution_count": null,
   "id": "6286352b-8271-4c23-a178-f2c802c14602",
   "metadata": {},
   "outputs": [],
   "source": []
  }
 ],
 "metadata": {
  "kernelspec": {
   "display_name": "Python 3 (ipykernel)",
   "language": "python",
   "name": "python3"
  },
  "language_info": {
   "codemirror_mode": {
    "name": "ipython",
    "version": 3
   },
   "file_extension": ".py",
   "mimetype": "text/x-python",
   "name": "python",
   "nbconvert_exporter": "python",
   "pygments_lexer": "ipython3",
   "version": "3.9.18"
  }
 },
 "nbformat": 4,
 "nbformat_minor": 5
}
